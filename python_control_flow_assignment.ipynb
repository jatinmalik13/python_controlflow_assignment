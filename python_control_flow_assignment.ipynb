{
 "cells": [
  {
   "cell_type": "code",
   "execution_count": 1,
   "id": "cd66f2d5-d15f-47d7-910d-60d2ea5c1dec",
   "metadata": {},
   "outputs": [
    {
     "name": "stdin",
     "output_type": "stream",
     "text": [
      "Enter a number:  30\n"
     ]
    },
    {
     "name": "stdout",
     "output_type": "stream",
     "text": [
      "The number is positive.\n"
     ]
    }
   ],
   "source": [
    "#1. Write a Python program to check if a given number is positive or negative.\n",
    "\n",
    "#ANS\n",
    "\n",
    "\n",
    "number = float(input(\"Enter a number: \"))\n",
    "\n",
    "\n",
    "if number > 0:\n",
    "    print(\"The number is positive.\")\n",
    "elif number < 0:\n",
    "    print(\"The number is negative.\")\n",
    "else:\n",
    "    print(\"The number is zero.\")\n"
   ]
  },
  {
   "cell_type": "code",
   "execution_count": 3,
   "id": "3b52bb29-34ca-4b75-92fc-722bcbff189d",
   "metadata": {},
   "outputs": [
    {
     "name": "stdin",
     "output_type": "stream",
     "text": [
      "Enter your age:  22\n"
     ]
    },
    {
     "name": "stdout",
     "output_type": "stream",
     "text": [
      "You are eligible to vote.\n"
     ]
    }
   ],
   "source": [
    "#2. Create a program that determines if a person is eligible to vote based on their age.\n",
    "\n",
    "#ANS - \n",
    "\n",
    "\n",
    "age = int(input(\"Enter your age: \"))\n",
    "\n",
    "\n",
    "if age >= 18:\n",
    "    print(\"You are eligible to vote.\")\n",
    "else:\n",
    "    print(\"You are not eligible to vote yet.\")\n"
   ]
  },
  {
   "cell_type": "code",
   "execution_count": 5,
   "id": "90d05937-1b9a-43aa-9701-8174f8e0d48d",
   "metadata": {},
   "outputs": [
    {
     "name": "stdin",
     "output_type": "stream",
     "text": [
      "Enter the first number:  33\n",
      "Enter the second number:  44\n"
     ]
    },
    {
     "name": "stdout",
     "output_type": "stream",
     "text": [
      "The maximum of 33.0 and 44.0 is: 44.0\n"
     ]
    }
   ],
   "source": [
    "# 3. Develop a program to find the maximum of two numbers using if-else statements.\n",
    "\n",
    "#ANS -\n",
    "\n",
    "number1 = float(input(\"Enter the first number: \"))\n",
    "number2 = float(input(\"Enter the second number: \"))\n",
    "\n",
    "\n",
    "if number1 > number2:\n",
    "    maximum = number1\n",
    "else:\n",
    "    maximum = number2\n",
    "\n",
    "\n",
    "print(\"The maximum of\", number1, \"and\", number2, \"is:\", maximum)\n",
    "\n"
   ]
  },
  {
   "cell_type": "code",
   "execution_count": 6,
   "id": "82ace938-537f-440d-870f-32ceb01dcd28",
   "metadata": {},
   "outputs": [
    {
     "name": "stdin",
     "output_type": "stream",
     "text": [
      "Enter a year:  2001\n"
     ]
    },
    {
     "name": "stdout",
     "output_type": "stream",
     "text": [
      "2001 is not a leap year.\n"
     ]
    }
   ],
   "source": [
    "# 4. Write a Python script to classify a given year as a leap year or not.\n",
    "\n",
    "#ANS -\n",
    "\n",
    "\n",
    "year = int(input(\"Enter a year: \"))\n",
    "\n",
    "if (year % 4 == 0 and year % 100 != 0) or (year % 400 == 0):\n",
    "    print(year, \"is a leap year.\")\n",
    "else:\n",
    "    print(year, \"is not a leap year.\")\n"
   ]
  },
  {
   "cell_type": "code",
   "execution_count": 8,
   "id": "d14743e8-3e2f-4521-a349-ed5988393c57",
   "metadata": {},
   "outputs": [
    {
     "name": "stdin",
     "output_type": "stream",
     "text": [
      "Enter a character:  #\n"
     ]
    },
    {
     "name": "stdout",
     "output_type": "stream",
     "text": [
      "The character # is a consonant.\n"
     ]
    }
   ],
   "source": [
    "# 5. Create a program that checks whether a character is a vowel or a consonant.\n",
    "\n",
    "#ANS -\n",
    "\n",
    "\n",
    "char = input(\"Enter a character: \")\n",
    "\n",
    "\n",
    "if len(char) == 1:\n",
    "\n",
    "    char = char.lower()\n",
    "\n",
    "    \n",
    "    if char in ('a', 'e', 'i', 'o', 'u'):\n",
    "        print(\"The character\", char, \"is a vowel.\")\n",
    "    else:\n",
    "        print(\"The character\", char, \"is a consonant.\")\n",
    "else:\n",
    "    print(\"Please enter a single character.\")\n"
   ]
  },
  {
   "cell_type": "code",
   "execution_count": 9,
   "id": "fc95db60-51c9-4582-bad7-12ff6c596922",
   "metadata": {},
   "outputs": [
    {
     "name": "stdin",
     "output_type": "stream",
     "text": [
      "Enter a number:  55\n"
     ]
    },
    {
     "name": "stdout",
     "output_type": "stream",
     "text": [
      "55 is an odd number.\n"
     ]
    }
   ],
   "source": [
    "#6. Implement a program to determine whether a given number is even or odd.\n",
    "\n",
    "#ANS -\n",
    "\n",
    "\n",
    "number = int(input(\"Enter a number: \"))\n",
    "\n",
    "\n",
    "if number % 2 == 0:\n",
    "    print(number, \"is an even number.\")\n",
    "else:\n",
    "    print(number, \"is an odd number.\")\n"
   ]
  },
  {
   "cell_type": "code",
   "execution_count": 10,
   "id": "80d58e00-c083-409f-bf5f-3549a08fe65b",
   "metadata": {},
   "outputs": [
    {
     "name": "stdin",
     "output_type": "stream",
     "text": [
      "Enter a number:  34\n"
     ]
    },
    {
     "name": "stdout",
     "output_type": "stream",
     "text": [
      "The absolute value is: 34.0\n"
     ]
    }
   ],
   "source": [
    "#7. Write a Python function to calculate the absolute value of a number without using the `abs()` function.\n",
    "\n",
    "#ANS -\n",
    "def calculate_absolute_value(number):\n",
    "    if number < 0:\n",
    "        return -number\n",
    "    else:\n",
    "        return number\n",
    "\n",
    "user_input = float(input(\"Enter a number: \"))\n",
    "result = calculate_absolute_value(user_input)\n",
    "print(\"The absolute value is:\", result)\n"
   ]
  },
  {
   "cell_type": "code",
   "execution_count": 12,
   "id": "8d6c8323-3e28-40b4-ac13-1a36239f589b",
   "metadata": {},
   "outputs": [
    {
     "name": "stdin",
     "output_type": "stream",
     "text": [
      "Enter the first number:  23\n",
      "Enter the second number:  4567\n",
      "Enter the third number:  67\n"
     ]
    },
    {
     "name": "stdout",
     "output_type": "stream",
     "text": [
      "The largest of 23.0 , 4567.0 , and 67.0 is: 4567.0\n"
     ]
    }
   ],
   "source": [
    "#8. Develop a program that determines the largest of three given numbers using if-else statements.\n",
    "\n",
    "#ANS --\n",
    "\n",
    "number1 = float(input(\"Enter the first number: \"))\n",
    "number2 = float(input(\"Enter the second number: \"))\n",
    "number3 = float(input(\"Enter the third number: \"))\n",
    "\n",
    "if number1 >= number2 and number1 >= number3:\n",
    "    largest = number1\n",
    "elif number2 >= number1 and number2 >= number3:\n",
    "    largest = number2\n",
    "else:\n",
    "    largest = number3\n",
    "\n",
    "\n",
    "print(\"The largest of\", number1, \",\", number2, \", and\", number3, \"is:\", largest)\n",
    "\n"
   ]
  },
  {
   "cell_type": "code",
   "execution_count": 13,
   "id": "4c2e5c71-2d31-4184-ac92-03db629819b5",
   "metadata": {},
   "outputs": [
    {
     "name": "stdin",
     "output_type": "stream",
     "text": [
      "Enter a string:  fsggg\n"
     ]
    },
    {
     "name": "stdout",
     "output_type": "stream",
     "text": [
      "The entered string is not a palindrome.\n"
     ]
    }
   ],
   "source": [
    "# 9. Create a program that checks if a given string is a palindrome.\n",
    "\n",
    "#ANS - \n",
    "\n",
    "def is_palindrome(input_string):\n",
    "\n",
    "    cleaned_string = ''.join(input_string.split()).lower()\n",
    "    \n",
    "    return cleaned_string == cleaned_string[::-1]\n",
    "\n",
    "user_input = input(\"Enter a string: \")\n",
    "if is_palindrome(user_input):\n",
    "    print(\"The entered string is a palindrome.\")\n",
    "else:\n",
    "    print(\"The entered string is not a palindrome.\")\n"
   ]
  },
  {
   "cell_type": "code",
   "execution_count": 15,
   "id": "b4136b89-6959-4689-ac64-05bc400d30c7",
   "metadata": {},
   "outputs": [
    {
     "name": "stdin",
     "output_type": "stream",
     "text": [
      "Enter the student's score:  33\n"
     ]
    },
    {
     "name": "stdout",
     "output_type": "stream",
     "text": [
      "The student's grade is: F\n"
     ]
    }
   ],
   "source": [
    "#10. Write a Python program to calculate the grade based on a student's score.\n",
    "\n",
    "#ANS -\n",
    "\n",
    "def calculate_grade(score):\n",
    "    if 90 <= score <= 100:\n",
    "        return 'A'\n",
    "    elif 80 <= score < 90:\n",
    "        return 'B'\n",
    "    elif 70 <= score < 80:\n",
    "        return 'C'\n",
    "    elif 60 <= score < 70:\n",
    "        return 'D'\n",
    "    elif 0 <= score < 60:\n",
    "        return 'F'\n",
    "    else:\n",
    "        return 'Invalid score'\n",
    "\n",
    "# Example usage:\n",
    "try:\n",
    "    user_score = float(input(\"Enter the student's score: \"))\n",
    "    if 0 <= user_score <= 100:\n",
    "        user_grade = calculate_grade(user_score)\n",
    "        print(\"The student's grade is:\", user_grade)\n",
    "    else:\n",
    "        print(\"Invalid score. Please enter a score between 0 and 100.\")\n",
    "except ValueError:\n",
    "    print(\"Invalid input. Please enter a valid numeric score.\")\n",
    "\n"
   ]
  },
  {
   "cell_type": "code",
   "execution_count": 16,
   "id": "99ecc236-91a9-408f-a1bd-5336db7c0635",
   "metadata": {},
   "outputs": [
    {
     "name": "stdin",
     "output_type": "stream",
     "text": [
      "Enter the first number:  34\n",
      "Enter the second number:  34\n",
      "Enter the third number:  54\n"
     ]
    },
    {
     "name": "stdout",
     "output_type": "stream",
     "text": [
      "The largest of 34.0 , 34.0 , and 54.0 is: 54.0\n"
     ]
    }
   ],
   "source": [
    "#11. Write a program to find the largest among three numbers using nested if-else statements.\n",
    "\n",
    "#ANS -\n",
    "\n",
    "\n",
    "number1 = float(input(\"Enter the first number: \"))\n",
    "number2 = float(input(\"Enter the second number: \"))\n",
    "number3 = float(input(\"Enter the third number: \"))\n",
    "\n",
    "\n",
    "if number1 >= number2:\n",
    "    if number1 >= number3:\n",
    "        largest = number1\n",
    "    else:\n",
    "        largest = number3\n",
    "else:\n",
    "    if number2 >= number3:\n",
    "        largest = number2\n",
    "    else:\n",
    "        largest = number3\n",
    "\n",
    "print(\"The largest of\", number1, \",\", number2, \", and\", number3, \"is:\", largest)\n"
   ]
  },
  {
   "cell_type": "code",
   "execution_count": 17,
   "id": "23a72f84-3af5-4b17-9f04-42cdd3713636",
   "metadata": {},
   "outputs": [
    {
     "name": "stdin",
     "output_type": "stream",
     "text": [
      "Enter the length of the first side:  44\n",
      "Enter the length of the second side:  55\n",
      "Enter the length of the third side:  55\n"
     ]
    },
    {
     "name": "stdout",
     "output_type": "stream",
     "text": [
      "The triangle with side lengths 44.0 , 55.0 , and 55.0 is a isosceles triangle.\n"
     ]
    }
   ],
   "source": [
    "#12. Implement a program to determine if a triangle is equilateral, isosceles, or scalene.\n",
    "\n",
    "#ans --\n",
    "\n",
    "\n",
    "side1 = float(input(\"Enter the length of the first side: \"))\n",
    "side2 = float(input(\"Enter the length of the second side: \"))\n",
    "side3 = float(input(\"Enter the length of the third side: \"))\n",
    "\n",
    "\n",
    "if side1 == side2 == side3:\n",
    "    triangle_type = \"equilateral\"\n",
    "elif side1 == side2 or side1 == side3 or side2 == side3:\n",
    "    triangle_type = \"isosceles\"\n",
    "else:\n",
    "    triangle_type = \"scalene\"\n",
    "\n",
    "\n",
    "print(\"The triangle with side lengths\", side1, \",\", side2, \", and\", side3, \"is a\", triangle_type, \"triangle.\")\n"
   ]
  },
  {
   "cell_type": "code",
   "execution_count": 18,
   "id": "d2982bc2-43ac-4e13-b273-36434773cad0",
   "metadata": {},
   "outputs": [
    {
     "name": "stdin",
     "output_type": "stream",
     "text": [
      "Enter a year:  2001\n"
     ]
    },
    {
     "name": "stdout",
     "output_type": "stream",
     "text": [
      "2001 is not a leap year and not a century year.\n"
     ]
    }
   ],
   "source": [
    "#13. Develop a program that checks if a year is a leap year and also if it is a century year.\n",
    "\n",
    "#ans -\n",
    "\n",
    "# Get user input for the year\n",
    "year = int(input(\"Enter a year: \"))\n",
    "\n",
    "\n",
    "if (year % 4 == 0 and year % 100 != 0) or (year % 400 == 0):\n",
    "    is_leap_year = True\n",
    "else:\n",
    "    is_leap_year = False\n",
    "\n",
    "\n",
    "is_century_year = year % 100 == 0\n",
    "\n",
    "\n",
    "if is_leap_year:\n",
    "    if is_century_year:\n",
    "        print(year, \"is a leap year and a century year.\")\n",
    "    else:\n",
    "        print(year, \"is a leap year but not a century year.\")\n",
    "else:\n",
    "    if is_century_year:\n",
    "        print(year, \"is not a leap year but a century year.\")\n",
    "    else:\n",
    "        print(year, \"is not a leap year and not a century year.\")\n"
   ]
  },
  {
   "cell_type": "code",
   "execution_count": 19,
   "id": "8a97c142-5e03-4c2e-b8f9-8921d54c7f70",
   "metadata": {},
   "outputs": [
    {
     "name": "stdin",
     "output_type": "stream",
     "text": [
      "Enter a number:  33\n"
     ]
    },
    {
     "name": "stdout",
     "output_type": "stream",
     "text": [
      "The number is positive.\n"
     ]
    }
   ],
   "source": [
    "#14. Write a Python script to determine if a number is positive, negative, or zero.\n",
    "\n",
    "#ans --\n",
    "\n",
    "\n",
    "number = float(input(\"Enter a number: \"))\n",
    "\n",
    "if number > 0:\n",
    "    print(\"The number is positive.\")\n",
    "elif number < 0:\n",
    "    print(\"The number is negative.\")\n",
    "else:\n",
    "    print(\"The number is zero.\")\n"
   ]
  },
  {
   "cell_type": "code",
   "execution_count": 20,
   "id": "5e2676bb-817d-4dba-b8f2-aa8ed9256592",
   "metadata": {},
   "outputs": [
    {
     "name": "stdin",
     "output_type": "stream",
     "text": [
      "Enter your age:  22\n"
     ]
    },
    {
     "name": "stdout",
     "output_type": "stream",
     "text": [
      "You are not a teenager.\n"
     ]
    }
   ],
   "source": [
    "#15. Create a program to check if a person is a teenager (between 13 and 19 years old).\n",
    "\n",
    "#ans\n",
    "\n",
    "age = int(input(\"Enter your age: \"))\n",
    "\n",
    "\n",
    "if 13 <= age <= 19:\n",
    "    print(\"You are a teenager.\")\n",
    "else:\n",
    "    print(\"You are not a teenager.\")\n",
    "\n"
   ]
  },
  {
   "cell_type": "markdown",
   "id": "2d016708-bfa3-4a05-81f1-13c0c3bdfecf",
   "metadata": {},
   "source": [
    "#### 16. Develop a program that determines the type of angle based on its measure (acute, obtuse, or right).\n",
    "\n",
    "#ans\n",
    "\n",
    "\n",
    "angle_measure = float(input(\"Enter the measure of the angle (in degrees): \"))\n",
    "\n",
    "\n",
    "if 0 < angle_measure < 90:\n",
    "    angle_type = \"acute\"\n",
    "elif angle_measure == 90:\n",
    "    angle_type = \"right\"\n",
    "elif 90 < angle_measure < 180:\n",
    "    angle_type = \"obtuse\"\n",
    "else:\n",
    "    angle_type = \"more than 180 (reflex angle)\"\n",
    "\n",
    "\n",
    "print(\"The angle with measure\", angle_measure, \"degrees is\", angle_type)\n"
   ]
  },
  {
   "cell_type": "code",
   "execution_count": 22,
   "id": "cb981527-d12a-456b-a819-8723e96e46e5",
   "metadata": {},
   "outputs": [
    {
     "name": "stdin",
     "output_type": "stream",
     "text": [
      "Enter the measure of the angle (in degrees):  23\n"
     ]
    },
    {
     "name": "stdout",
     "output_type": "stream",
     "text": [
      "The angle with measure 23.0 degrees is acute\n"
     ]
    }
   ],
   "source": [
    "#17. Write a Python program to calculate the roots of a quadratic equation.\n",
    "\n",
    "#ans\n",
    "\n",
    "\n",
    "angle_measure = float(input(\"Enter the measure of the angle (in degrees): \"))\n",
    "\n",
    "\n",
    "if 0 < angle_measure < 90:\n",
    "    angle_type = \"acute\"\n",
    "elif angle_measure == 90:\n",
    "    angle_type = \"right\"\n",
    "elif 90 < angle_measure < 180:\n",
    "    angle_type = \"obtuse\"\n",
    "else:\n",
    "    angle_type = \"more than 180 (reflex angle)\"\n",
    "\n",
    "\n",
    "print(\"The angle with measure\", angle_measure, \"degrees is\", angle_type)\n"
   ]
  },
  {
   "cell_type": "code",
   "execution_count": 24,
   "id": "c940fb61-9826-4caa-b256-c6e42bb1ace4",
   "metadata": {},
   "outputs": [
    {
     "name": "stdin",
     "output_type": "stream",
     "text": [
      "Enter a number (1 for Monday, 2 for Tuesday, etc.):  2\n"
     ]
    },
    {
     "name": "stdout",
     "output_type": "stream",
     "text": [
      "The day corresponding to 2 is Tuesday\n"
     ]
    }
   ],
   "source": [
    "#18. Implement a program to determine the day of the week based on a user-provided number (1 for Monday, 2\n",
    "#for Tuesday, etc.).\n",
    "\n",
    "#ans\n",
    "\n",
    "day_number = int(input(\"Enter a number (1 for Monday, 2 for Tuesday, etc.): \"))\n",
    "\n",
    "if 1 <= day_number <= 7:\n",
    "    days_of_week = [\"Monday\", \"Tuesday\", \"Wednesday\", \"Thursday\", \"Friday\", \"Saturday\", \"Sunday\"]\n",
    "    day_of_week = days_of_week[day_number - 1]\n",
    "    print(\"The day corresponding to\", day_number, \"is\", day_of_week)\n",
    "else:\n",
    "    print(\"Invalid input. Please enter a number between 1 and 7.\")\n"
   ]
  },
  {
   "cell_type": "code",
   "execution_count": 25,
   "id": "4c7a81bd-273b-419e-9f05-19d26727bea7",
   "metadata": {},
   "outputs": [
    {
     "name": "stdin",
     "output_type": "stream",
     "text": [
      "Enter a year:  2001\n"
     ]
    },
    {
     "name": "stdout",
     "output_type": "stream",
     "text": [
      "2001 is not a leap year.\n"
     ]
    }
   ],
   "source": [
    "#19. Create a program that determines if a year is a leap year and also if it is evenly divisible by 400.\n",
    "\n",
    "#ans \n",
    "\n",
    "\n",
    "year = int(input(\"Enter a year: \"))\n",
    "\n",
    "\n",
    "if (year % 4 == 0 and year % 100 != 0) or (year % 400 == 0):\n",
    "    is_leap_year = True\n",
    "else:\n",
    "    is_leap_year = False\n",
    "\n",
    "\n",
    "is_divisible_by_400 = year % 400 == 0\n",
    "\n",
    "if is_leap_year:\n",
    "    if is_divisible_by_400:\n",
    "        print(year, \"is a leap year and is evenly divisible by 400.\")\n",
    "    else:\n",
    "        print(year, \"is a leap year but is not evenly divisible by 400.\")\n",
    "else:\n",
    "    print(year, \"is not a leap year.\")\n"
   ]
  },
  {
   "cell_type": "code",
   "execution_count": 26,
   "id": "0744bb43-b315-4f8d-9106-8bb49583fd12",
   "metadata": {},
   "outputs": [
    {
     "name": "stdin",
     "output_type": "stream",
     "text": [
      "Enter a number:  22\n"
     ]
    },
    {
     "name": "stdout",
     "output_type": "stream",
     "text": [
      "22 is not a prime number.\n"
     ]
    }
   ],
   "source": [
    "#20. Develop a program that checks if a given number is prime or not using nested if-else statements.\n",
    "\n",
    "#ans \n",
    "\n",
    "\n",
    "number = int(input(\"Enter a number: \"))\n",
    "\n",
    "if number > 1:\n",
    "    for i in range(2, int(number**0.5) + 1):\n",
    "        if number % i == 0:\n",
    "            print(number, \"is not a prime number.\")\n",
    "            break\n",
    "    else:\n",
    "        print(number, \"is a prime number.\")\n",
    "else:\n",
    "    print(number, \"is not a prime number.\")\n"
   ]
  },
  {
   "cell_type": "code",
   "execution_count": 27,
   "id": "89d607f4-87dd-45d5-8cc7-88dd895cc1f9",
   "metadata": {},
   "outputs": [
    {
     "name": "stdin",
     "output_type": "stream",
     "text": [
      "Enter the student's score:  22\n"
     ]
    },
    {
     "name": "stdout",
     "output_type": "stream",
     "text": [
      "The student's score of 22.0 corresponds to the grade: F\n"
     ]
    }
   ],
   "source": [
    "#21. Write a Python program to assign grades based on different ranges of scores using elif statements.\n",
    "\n",
    "#ans \n",
    "\n",
    "\n",
    "score = float(input(\"Enter the student's score: \"))\n",
    "\n",
    "\n",
    "if 90 <= score <= 100:\n",
    "    grade = 'A'\n",
    "elif 80 <= score < 90:\n",
    "    grade = 'B'\n",
    "elif 70 <= score < 80:\n",
    "    grade = 'C'\n",
    "elif 60 <= score < 70:\n",
    "    grade = 'D'\n",
    "elif 0 <= score < 60:\n",
    "    grade = 'F'\n",
    "else:\n",
    "    grade = 'Invalid score'\n",
    "\n",
    "\n",
    "print(\"The student's score of\", score, \"corresponds to the grade:\", grade)\n"
   ]
  },
  {
   "cell_type": "code",
   "execution_count": 29,
   "id": "38c48432-f013-4b97-a352-d9e89b10d4f3",
   "metadata": {},
   "outputs": [
    {
     "name": "stdin",
     "output_type": "stream",
     "text": [
      "Enter the measure of the first angle:  60\n",
      "Enter the measure of the second angle:  60\n",
      "Enter the measure of the third angle:  60\n"
     ]
    },
    {
     "name": "stdout",
     "output_type": "stream",
     "text": [
      "The triangle with angles 60.0 , 60.0 , and 60.0 is a equilateral triangle.\n"
     ]
    }
   ],
   "source": [
    "#22. Implement a program to determine the type of a triangle based on its angles.\n",
    "\n",
    "#ans\n",
    "\n",
    "\n",
    "angle1 = float(input(\"Enter the measure of the first angle: \"))\n",
    "angle2 = float(input(\"Enter the measure of the second angle: \"))\n",
    "angle3 = float(input(\"Enter the measure of the third angle: \"))\n",
    "\n",
    "\n",
    "if angle1 + angle2 + angle3 == 180:\n",
    "    if angle1 == angle2 == angle3:\n",
    "        triangle_type = \"equilateral\"\n",
    "    elif angle1 == 90 or angle2 == 90 or angle3 == 90:\n",
    "        triangle_type = \"right-angled\"\n",
    "    elif angle1 < 90 and angle2 < 90 and angle3 < 90:\n",
    "        triangle_type = \"acute-angled\"\n",
    "    else:\n",
    "        triangle_type = \"obtuse-angled\"\n",
    "    print(\"The triangle with angles\", angle1, \",\", angle2, \", and\", angle3, \"is a\", triangle_type, \"triangle.\")\n",
    "else:\n",
    "    print(\"Invalid input. The sum of angles in a triangle should be 180 degrees.\")\n",
    "\n"
   ]
  },
  {
   "cell_type": "code",
   "execution_count": 30,
   "id": "492ac1dc-decb-43bd-a92d-43156ae320cb",
   "metadata": {},
   "outputs": [
    {
     "name": "stdin",
     "output_type": "stream",
     "text": [
      "Enter your height in meters:  190\n",
      "Enter your weight in kilograms:  80\n"
     ]
    },
    {
     "name": "stdout",
     "output_type": "stream",
     "text": [
      "Your BMI is 0.00, and you are categorized as Underweight.\n"
     ]
    }
   ],
   "source": [
    "#23. Develop a program to categorize a given person's BMI into underweight, normal, overweight, or obese using\n",
    "#elif statements.\n",
    "\n",
    "#ans\n",
    "\n",
    "height = float(input(\"Enter your height in meters: \"))\n",
    "weight = float(input(\"Enter your weight in kilograms: \"))\n",
    "\n",
    "\n",
    "bmi = weight / (height ** 2)\n",
    "\n",
    "\n",
    "if bmi < 18.5:\n",
    "    category = 'Underweight'\n",
    "elif 18.5 <= bmi < 25:\n",
    "    category = 'Normal'\n",
    "elif 25 <= bmi < 30:\n",
    "    category = 'Overweight'\n",
    "else:\n",
    "    category = 'Obese'\n",
    "\n",
    "\n",
    "print(f\"Your BMI is {bmi:.2f}, and you are categorized as {category}.\")\n"
   ]
  },
  {
   "cell_type": "code",
   "execution_count": 32,
   "id": "a42c3af1-f7a1-48e2-a088-656dd5b05b66",
   "metadata": {},
   "outputs": [
    {
     "name": "stdin",
     "output_type": "stream",
     "text": [
      "Enter a number:  3\n"
     ]
    },
    {
     "name": "stdout",
     "output_type": "stream",
     "text": [
      "The number is positive.\n"
     ]
    }
   ],
   "source": [
    "#24. Create a program that determines whether a given number is positive, negative, or zero using elif\n",
    "#statements.\n",
    "\n",
    "#ans \n",
    "\n",
    "number = float(input(\"Enter a number: \"))\n",
    "\n",
    "if number > 0:\n",
    "    print(\"The number is positive.\")\n",
    "elif number < 0:\n",
    "    print(\"The number is negative.\")\n",
    "else:\n",
    "    print(\"The number is zero.\")\n"
   ]
  },
  {
   "cell_type": "code",
   "execution_count": 33,
   "id": "e8dfda49-8fed-420a-9b39-1449d429a06d",
   "metadata": {},
   "outputs": [
    {
     "name": "stdin",
     "output_type": "stream",
     "text": [
      "Enter a character:  jatin\n"
     ]
    },
    {
     "name": "stdout",
     "output_type": "stream",
     "text": [
      "The character is lowercase.\n"
     ]
    }
   ],
   "source": [
    "#25. Write a Python script to determine the type of a character (uppercase, lowercase, or special) using elif\n",
    "#statements.\n",
    "\n",
    "#ans\n",
    "\n",
    "\n",
    "character = input(\"Enter a character: \")\n",
    "\n",
    "\n",
    "if 'A' <= character <= 'Z':\n",
    "    print(\"The character is uppercase.\")\n",
    "elif 'a' <= character <= 'z':\n",
    "    print(\"The character is lowercase.\")\n",
    "else:\n",
    "    print(\"The character is special.\")\n"
   ]
  },
  {
   "cell_type": "code",
   "execution_count": 34,
   "id": "0b6292f8-ad5f-4d54-9ca2-d124079ef8c9",
   "metadata": {},
   "outputs": [
    {
     "name": "stdin",
     "output_type": "stream",
     "text": [
      "Enter the purchase amount:  34\n"
     ]
    },
    {
     "name": "stdout",
     "output_type": "stream",
     "text": [
      "The discounted price for a purchase amount of $34.00 is $34.00 with a 0% discount.\n"
     ]
    }
   ],
   "source": [
    "#26. Implement a program to calculate the discounted price based on different purchase amounts using elif\n",
    "#statements.\n",
    "\n",
    "#ans \n",
    "\n",
    "\n",
    "purchase_amount = float(input(\"Enter the purchase amount: \"))\n",
    "\n",
    "if purchase_amount < 100:\n",
    "    discount_percentage = 0\n",
    "elif 100 <= purchase_amount < 500:\n",
    "    discount_percentage = 5\n",
    "elif 500 <= purchase_amount < 1000:\n",
    "    discount_percentage = 10\n",
    "else:\n",
    "    discount_percentage = 15\n",
    "\n",
    "discounted_price = purchase_amount - (purchase_amount * (discount_percentage / 100))\n",
    "\n",
    "\n",
    "print(f\"The discounted price for a purchase amount of ${purchase_amount:.2f} is ${discounted_price:.2f} with a {discount_percentage}% discount.\")\n"
   ]
  },
  {
   "cell_type": "code",
   "execution_count": 35,
   "id": "cbe84e34-f716-4797-a127-490899f62d47",
   "metadata": {},
   "outputs": [
    {
     "name": "stdin",
     "output_type": "stream",
     "text": [
      "Enter the electricity consumption in kilowatt-hours:  333\n"
     ]
    },
    {
     "name": "stdout",
     "output_type": "stream",
     "text": [
      "The electricity bill for 333.00 kWh is $46.60.\n"
     ]
    }
   ],
   "source": [
    "\n",
    "#27. Develop a program to calculate the electricity bill based on different consumption slabs using elif\n",
    "#statements.\n",
    "\n",
    "#ans \n",
    "\n",
    "consumption = float(input(\"Enter the electricity consumption in kilowatt-hours: \"))\n",
    "\n",
    "\n",
    "rate_slab1 = 0.10 \n",
    "rate_slab2 = 0.15 \n",
    "rate_slab3 = 0.20  \n",
    "\n",
    "\n",
    "total_bill = 0.0\n",
    "consumed_units = 0.0\n",
    "\n",
    "if consumption <= 100:\n",
    "    total_bill = consumption * rate_slab1\n",
    "    consumed_units = consumption\n",
    "elif 100 < consumption <= 300:\n",
    "    total_bill = (100 * rate_slab1) + ((consumption - 100) * rate_slab2)\n",
    "    consumed_units = consumption\n",
    "else:\n",
    "    total_bill = (100 * rate_slab1) + (200 * rate_slab2) + ((consumption - 300) * rate_slab3)\n",
    "    consumed_units = consumption\n",
    "\n",
    "\n",
    "print(f\"The electricity bill for {consumed_units:.2f} kWh is ${total_bill:.2f}.\")\n"
   ]
  },
  {
   "cell_type": "code",
   "execution_count": 36,
   "id": "143482a8-986d-4349-ba5d-a085c6fd8251",
   "metadata": {},
   "outputs": [
    {
     "name": "stdin",
     "output_type": "stream",
     "text": [
      "Enter the measure of the first angle (in degrees):  22\n",
      "Enter the measure of the second angle (in degrees):  33\n",
      "Enter the measure of the third angle (in degrees):  44\n",
      "Enter the measure of the fourth angle (in degrees):  44\n",
      "Enter the length of the first side:  55\n",
      "Enter the length of the second side:  66\n",
      "Enter the length of the third side:  309\n",
      "Enter the length of the fourth side:  30\n"
     ]
    },
    {
     "name": "stdout",
     "output_type": "stream",
     "text": [
      "Invalid input. The sum of angles in a quadrilateral should be 360 degrees.\n"
     ]
    }
   ],
   "source": [
    "#28. Create a program to determine the type of quadrilateral based on its angles and sides using elif\n",
    "#statements.\n",
    "\n",
    "#ans \n",
    "\n",
    "\n",
    "angle1 = float(input(\"Enter the measure of the first angle (in degrees): \"))\n",
    "angle2 = float(input(\"Enter the measure of the second angle (in degrees): \"))\n",
    "angle3 = float(input(\"Enter the measure of the third angle (in degrees): \"))\n",
    "angle4 = float(input(\"Enter the measure of the fourth angle (in degrees): \"))\n",
    "\n",
    "side1 = float(input(\"Enter the length of the first side: \"))\n",
    "side2 = float(input(\"Enter the length of the second side: \"))\n",
    "side3 = float(input(\"Enter the length of the third side: \"))\n",
    "side4 = float(input(\"Enter the length of the fourth side: \"))\n",
    "\n",
    "if angle1 + angle2 + angle3 + angle4 == 360:\n",
    "    if side1 == side2 == side3 == side4:\n",
    "        quadrilateral_type = \"Square\"\n",
    "    elif angle1 == angle2 == angle3 == angle4 == 90:\n",
    "        quadrilateral_type = \"Rectangle\"\n",
    "    else:\n",
    "        quadrilateral_type = \"Quadrilateral\"\n",
    "    print(f\"The given shape is a {quadrilateral_type}.\")\n",
    "else:\n",
    "    print(\"Invalid input. The sum of angles in a quadrilateral should be 360 degrees.\")\n"
   ]
  },
  {
   "cell_type": "code",
   "execution_count": 37,
   "id": "bc59f5b2-ac86-4f8e-a714-fe3769d366a3",
   "metadata": {},
   "outputs": [
    {
     "name": "stdin",
     "output_type": "stream",
     "text": [
      "Enter the month (e.g., January, February, etc.):  january\n"
     ]
    },
    {
     "name": "stdout",
     "output_type": "stream",
     "text": [
      "The season for january is Winter.\n"
     ]
    }
   ],
   "source": [
    "#29. Write a Python script to determine the season based on a user-provided month using elif statements.\n",
    "\n",
    "#ans\n",
    "\n",
    "\n",
    "month = input(\"Enter the month (e.g., January, February, etc.): \")\n",
    "\n",
    "\n",
    "month_lower = month.lower()\n",
    "\n",
    "\n",
    "if month_lower in ['december', 'january', 'february']:\n",
    "    season = 'Winter'\n",
    "elif month_lower in ['march', 'april', 'may']:\n",
    "    season = 'Spring'\n",
    "elif month_lower in ['june', 'july', 'august']:\n",
    "    season = 'Summer'\n",
    "elif month_lower in ['september', 'october', 'november']:\n",
    "    season = 'Fall'\n",
    "else:\n",
    "    season = 'Invalid month'\n",
    "\n",
    "\n",
    "print(f\"The season for {month} is {season}.\")\n"
   ]
  },
  {
   "cell_type": "code",
   "execution_count": 38,
   "id": "d3354c0d-029a-4052-a8cd-0a21e3655a8a",
   "metadata": {},
   "outputs": [
    {
     "name": "stdin",
     "output_type": "stream",
     "text": [
      "Enter the year:  2001\n",
      "Enter the month (e.g., January, February, etc.):  may\n"
     ]
    },
    {
     "name": "stdout",
     "output_type": "stream",
     "text": [
      "The year 2001 is a Common year, and may has 31 days.\n"
     ]
    }
   ],
   "source": [
    "#30. Implement a program to determine the type of a year (leap or common) and month (30 or 31 days) using\n",
    "#elif statements.\n",
    "\n",
    "#ans \n",
    "\n",
    "# Get user input for the year and month\n",
    "year = int(input(\"Enter the year: \"))\n",
    "month = input(\"Enter the month (e.g., January, February, etc.): \")\n",
    "\n",
    "# Convert month to lowercase for case-insensitive comparison\n",
    "month_lower = month.lower()\n",
    "\n",
    "\n",
    "if (year % 4 == 0 and year % 100 != 0) or (year % 400 == 0):\n",
    "    year_type = 'Leap'\n",
    "else:\n",
    "    year_type = 'Common'\n",
    "\n",
    "\n",
    "if month_lower in ['january', 'march', 'may', 'july', 'august', 'october', 'december']:\n",
    "    days_in_month = 31\n",
    "elif month_lower in ['april', 'june', 'september', 'november']:\n",
    "    days_in_month = 30\n",
    "elif month_lower == 'february':\n",
    "    days_in_month = 29 if year_type == 'Leap' else 28\n",
    "else:\n",
    "    days_in_month = 'Invalid month'\n",
    "\n",
    "if isinstance(days_in_month, int):\n",
    "    print(f\"The year {year} is a {year_type} year, and {month} has {days_in_month} days.\")\n",
    "else:\n",
    "    print(days_in_month)\n"
   ]
  },
  {
   "cell_type": "code",
   "execution_count": 40,
   "id": "8b6f6c73-e9e9-4ba6-a377-1b6bf5595524",
   "metadata": {},
   "outputs": [
    {
     "name": "stdin",
     "output_type": "stream",
     "text": [
      "Enter your password:  kangna\n"
     ]
    },
    {
     "name": "stdout",
     "output_type": "stream",
     "text": [
      "Password must be at least 8 characters long.\n"
     ]
    }
   ],
   "source": [
    "#31. Create a program that validates a password based on complexity rules (length, characters, etc.).\n",
    "\n",
    "#ans \n",
    "\n",
    "def validate_password(password):\n",
    "  \n",
    "    if len(password) < 8:\n",
    "        return \"Password must be at least 8 characters long.\"\n",
    "    elif not any(char.isupper() for char in password):\n",
    "        return \"Password must contain at least one uppercase letter.\"\n",
    "    elif not any(char.islower() for char in password):\n",
    "        return \"Password must contain at least one lowercase letter.\"\n",
    "    elif not any(char.isdigit() for char in password):\n",
    "        return \"Password must contain at least one digit.\"\n",
    "    else:\n",
    "        return \"Password is valid.\"\n",
    "\n",
    "\n",
    "user_password = input(\"Enter your password: \")\n",
    "result = validate_password(user_password)\n",
    "print(result)\n"
   ]
  },
  {
   "cell_type": "markdown",
   "id": "c036c416-1be1-4223-944b-e1726d60f940",
   "metadata": {},
   "source": [
    "### 32. Develop a program that performs matrix addition and subtraction based on user input.\n",
    "\n",
    "#ans\n",
    "\n",
    "def matrix_addition(matrix1, matrix2):\n",
    "    result_matrix = [[0 for _ in range(len(matrix1[0]))] for _ in range(len(matrix1))]\n",
    "    \n",
    "    for i in range(len(matrix1)):\n",
    "        for j in range(len(matrix1[0])):\n",
    "            result_matrix[i][j] = matrix1[i][j] + matrix2[i][j]\n",
    "    \n",
    "    return result_matrix\n",
    "\n",
    "def matrix_subtraction(matrix1, matrix2):\n",
    "    result_matrix = [[0 for _ in range(len(matrix1[0]))] for _ in range(len(matrix1))]\n",
    "    \n",
    "    for i in range(len(matrix1)):\n",
    "        for j in range(len(matrix1[0])):\n",
    "            result_matrix[i][j] = matrix1[i][j] - matrix2[i][j]\n",
    "    \n",
    "    return result_matrix\n",
    "\n",
    "def display_matrix(matrix, label):\n",
    "    print(f\"{label} matrix:\")\n",
    "    for row in matrix:\n",
    "        print(row)\n",
    "\n",
    "\n",
    "rows = int(input(\"Enter the number of rows for the matrices: \"))\n",
    "columns = int(input(\"Enter the number of columns for the matrices: \"))\n",
    "\n",
    "matrix1 = [[float(input(f\"Enter element at position ({i+1}, {j+1}) for matrix 1: \")) for j in range(columns)] for i in range(rows)]\n",
    "\n",
    "matrix2 = [[float(input(f\"Enter element at position ({i+1}, {j+1}) for matrix 2: \")) for j in range(columns)] for i in range(rows)]\n",
    "\n",
    "sum_matrix = matrix_addition(matrix1, matrix2)\n",
    "difference_matrix = matrix_subtraction(matrix1, matrix2)\n",
    "\n",
    "display_matrix(matrix1, \"Matrix 1\")\n",
    "display_matrix(matrix2, \"Matrix 2\")\n",
    "display_matrix(sum_matrix, \"Sum\")\n",
    "display_matrix(difference_matrix, \"Difference\")\n"
   ]
  },
  {
   "cell_type": "code",
   "execution_count": 43,
   "id": "92b5c95c-35ec-410b-a603-913952471a09",
   "metadata": {},
   "outputs": [
    {
     "name": "stdin",
     "output_type": "stream",
     "text": [
      "Enter the first number:  2\n",
      "Enter the second number:  3\n"
     ]
    },
    {
     "name": "stdout",
     "output_type": "stream",
     "text": [
      "The greatest common divisor (GCD) of 2 and 3 is: 1\n"
     ]
    }
   ],
   "source": [
    "#33. Write a program that calculates the greatest common divisor (GCD) of two numbers using the Euclidean\n",
    "#algorithm.\n",
    "\n",
    "#ans\n",
    "\n",
    "def calculate_gcd(a, b):\n",
    "    while b:\n",
    "        a, b = b, a % b\n",
    "    return a\n",
    "\n",
    "\n",
    "number1 = int(input(\"Enter the first number: \"))\n",
    "number2 = int(input(\"Enter the second number: \"))\n",
    "\n",
    "\n",
    "gcd = calculate_gcd(number1, number2)\n",
    "print(f\"The greatest common divisor (GCD) of {number1} and {number2} is: {gcd}\")\n"
   ]
  },
  {
   "cell_type": "code",
   "execution_count": 46,
   "id": "bfa227c5-3afe-490a-aee6-51ca0d44a88e",
   "metadata": {},
   "outputs": [
    {
     "ename": "IndentationError",
     "evalue": "unexpected indent (3731931926.py, line 6)",
     "output_type": "error",
     "traceback": [
      "\u001b[1;36m  Cell \u001b[1;32mIn[46], line 6\u001b[1;36m\u001b[0m\n\u001b[1;33m    def matrix_multiplication(matrix1, matrix2):\u001b[0m\n\u001b[1;37m    ^\u001b[0m\n\u001b[1;31mIndentationError\u001b[0m\u001b[1;31m:\u001b[0m unexpected indent\n"
     ]
    }
   ],
   "source": [
    "#34. Build a program that performs matrix multiplication using nested loops and conditional statements.\n",
    "\n",
    "#ans \n",
    "\n",
    "\n",
    " def matrix_multiplication(matrix1, matrix2):\n",
    "    rows1, columns1 = len(matrix1), len(matrix1[0])\n",
    "    rows2, columns2 = len(matrix2), len(matrix2[0])\n",
    "\n",
    "    # Check if matrix multiplication is possible\n",
    "    if columns1 != rows2:\n",
    "        print(\"Matrix multiplication is not possible. The number of columns in matrix1 must be equal to the number of rows in matrix2.\")\n",
    "        return None\n",
    "\n",
    "    result_matrix = [[0 for _ in range(columns2)] for _ in range(rows1)]\n",
    "\n",
    "    for i in range(rows1):\n",
    "        for j in range(columns2):\n",
    "            for k in range(columns1):\n",
    "                result_matrix[i][j] += matrix1[i][k] * matrix2[k][j]\n",
    "\n",
    "    return result_matrix\n",
    "\n",
    "def display_matrix(matrix, label):\n",
    "    print(f\"{label} matrix:\")\n",
    "    for row in matrix:\n",
    "        print(row)\n",
    "\n",
    "# Example matrices for testing\n",
    "matrix1 = [\n",
    "    [1, 2, 3],\n",
    "    [4, 5, 6],\n",
    "    [7, 8, 9]\n",
    "]\n",
    "\n",
    "matrix2 = [\n",
    "    [9, 8, 7],\n",
    "    [6, 5, 4],\n",
    "    [3, 2, 1]\n",
    "]\n",
    "\n",
    "# Perform matrix multiplication\n",
    "result_matrix = matrix_multiplication(matrix1, matrix2)\n",
    "\n",
    "# Display the matrices and result\n",
    "if result_matrix is not None:\n",
    "    display_matrix(matrix1, \"Matrix 1\")\n",
    "    display_matrix(matrix2, \"Matrix 2\")\n",
    "    display_matrix(result_matrix, \"Result\")\n",
    "\n",
    "\n"
   ]
  },
  {
   "cell_type": "markdown",
   "id": "20280281-a28c-4064-ba74-d2bf44f67362",
   "metadata": {},
   "source": [
    "### 35. Create a program that simulates a basic text-based tic-tac-toe game against the computer.\n",
    "\n",
    "#ans \n",
    "\n",
    "import random\n",
    "\n",
    "def print_board(board):\n",
    "    for row in board:\n",
    "        print(\" \".join(row))\n",
    "\n",
    "def check_winner(board, player):\n",
    "    # Check rows, columns, and diagonals for a win\n",
    "    for i in range(3):\n",
    "        if all(board[i][j] == player for j in range(3)) or all(board[j][i] == player for j in range(3)):\n",
    "            return True\n",
    "    if all(board[i][i] == player for i in range(3)) or all(board[i][2 - i] == player for i in range(3)):\n",
    "        return True\n",
    "    return False\n",
    "\n",
    "def is_board_full(board):\n",
    "    return all(board[i][j] != ' ' for i in range(3) for j in range(3))\n",
    "\n",
    "def get_empty_positions(board):\n",
    "    return [(i, j) for i in range(3) for j in range(3) if board[i][j] == ' ']\n",
    "\n",
    "def player_move(board):\n",
    "    while True:\n",
    "        try:\n",
    "            row = int(input(\"Enter the row (1, 2, or 3): \")) - 1\n",
    "            col = int(input(\"Enter the column (1, 2, or 3): \")) - 1\n",
    "\n",
    "            if board[row][col] == ' ':\n",
    "                return row, col\n",
    "            else:\n",
    "                print(\"Cell already taken. Try again.\")\n",
    "        except (ValueError, IndexError):\n",
    "            print(\"Invalid input. Please enter a valid row and column.\")\n",
    "\n",
    "def computer_move(board):\n",
    "    empty_positions = get_empty_positions(board)\n",
    "    return random.choice(empty_positions)\n",
    "\n",
    "def tic_tac_toe():\n",
    "    board = [[' ' for _ in range(3)] for _ in range(3)]\n",
    "    players = ['X', 'O']\n",
    "    current_player = random.choice(players)\n",
    "\n",
    "    print(\"Welcome to Tic-Tac-Toe!\")\n",
    "    print_board(board)\n",
    "\n",
    "    while True:\n",
    "        if current_player == 'X':\n",
    "            row, col = player_move(board)\n",
    "        else:\n",
    "            print(\"Computer's turn:\")\n",
    "            row, col = computer_move(board)\n",
    "\n",
    "        board[row][col] = current_player\n",
    "        print_board(board)\n",
    "\n",
    "        if check_winner(board, current_player):\n",
    "            print(f\"{current_player} wins!\")\n",
    "            break\n",
    "        elif is_board_full(board):\n",
    "            print(\"It's a tie!\")\n",
    "            break\n",
    "\n",
    "        current_player = 'O' if current_player == 'X' else 'X'\n",
    "\n",
    "if __name__ == \"__main__\":\n",
    "    tic_tac_toe()\n"
   ]
  },
  {
   "cell_type": "code",
   "execution_count": 49,
   "id": "b42d4e23-1ecd-4e72-b94f-bdf9b90242e9",
   "metadata": {},
   "outputs": [
    {
     "name": "stdin",
     "output_type": "stream",
     "text": [
      "Enter the number of Fibonacci terms to generate:  4\n"
     ]
    },
    {
     "name": "stdout",
     "output_type": "stream",
     "text": [
      "Fibonacci sequence up to term 4: [0, 1, 1, 2]\n"
     ]
    }
   ],
   "source": [
    "#36. Write a program that generates Fibonacci numbers up to a specified term using iterative methods.\n",
    "\n",
    "#ans\n",
    "\n",
    "def generate_fibonacci(n):\n",
    "    fibonacci_sequence = [0, 1]\n",
    "\n",
    "    for i in range(2, n):\n",
    "        next_term = fibonacci_sequence[-1] + fibonacci_sequence[-2]\n",
    "        fibonacci_sequence.append(next_term)\n",
    "\n",
    "    return fibonacci_sequence\n",
    "\n",
    "try:\n",
    "    n_terms = int(input(\"Enter the number of Fibonacci terms to generate: \"))\n",
    "    if n_terms < 0:\n",
    "        raise ValueError(\"Number of terms should be a non-negative integer.\")\n",
    "except ValueError as e:\n",
    "    print(f\"Error: {e}\")\n",
    "    exit()\n",
    "\n",
    "fibonacci_sequence = generate_fibonacci(n_terms)\n",
    "print(f\"Fibonacci sequence up to term {n_terms}: {fibonacci_sequence}\")\n"
   ]
  },
  {
   "cell_type": "code",
   "execution_count": 51,
   "id": "f074a532-526c-4c06-8139-1177ed9c7a9c",
   "metadata": {},
   "outputs": [
    {
     "name": "stdin",
     "output_type": "stream",
     "text": [
      "Enter the term of the Fibonacci sequence to calculate:  5\n"
     ]
    },
    {
     "name": "stdout",
     "output_type": "stream",
     "text": [
      "The 5th term of the Fibonacci sequence is: 5\n"
     ]
    }
   ],
   "source": [
    "#37. Develop a program that calculates the nth term of the Fibonacci sequence using memoization.\n",
    "\n",
    "#ans\n",
    "\n",
    "\n",
    "fibonacci_memo = {}\n",
    "\n",
    "def calculate_fibonacci(n):\n",
    "    if n <= 1:\n",
    "        return n\n",
    "\n",
    "    # Check if the value is already memoized\n",
    "    if n in fibonacci_memo:\n",
    "        return fibonacci_memo[n]\n",
    "\n",
    "\n",
    "    result = calculate_fibonacci(n - 1) + calculate_fibonacci(n - 2)\n",
    "    fibonacci_memo[n] = result\n",
    "    return result\n",
    "\n",
    "try:\n",
    "    n_term = int(input(\"Enter the term of the Fibonacci sequence to calculate: \"))\n",
    "    if n_term < 0:\n",
    "        raise ValueError(\"Term should be a non-negative integer.\")\n",
    "except ValueError as e:\n",
    "    print(f\"Error: {e}\")\n",
    "    exit()\n",
    "\n",
    "result = calculate_fibonacci(n_term)\n",
    "print(f\"The {n_term}th term of the Fibonacci sequence is: {result}\")\n"
   ]
  },
  {
   "cell_type": "code",
   "execution_count": 52,
   "id": "ea7f8de5-5af1-4cf1-8b78-f8bf9724bb67",
   "metadata": {},
   "outputs": [
    {
     "name": "stdin",
     "output_type": "stream",
     "text": [
      "Enter the year:  2001\n",
      "Enter the month (1-12):  5\n"
     ]
    },
    {
     "name": "stdout",
     "output_type": "stream",
     "text": [
      "\n",
      "Calendar for May 2001:\n",
      "\n",
      "Mo Tu We Th Fr Sa Su\n",
      "    1  2  3  4  5  6 \n",
      " 7  8  9 10 11 12 13 \n",
      "14 15 16 17 18 19 20 \n",
      "21 22 23 24 25 26 27 \n",
      "28 29 30 31          \n"
     ]
    }
   ],
   "source": [
    "#38. Create a program that generates a calendar for a given month and year using conditional statements.\n",
    "\n",
    "#ans\n",
    "\n",
    "import calendar\n",
    "\n",
    "def generate_calendar(year, month):\n",
    "    cal = calendar.monthcalendar(year, month)\n",
    "    return cal\n",
    "\n",
    "\n",
    "try:\n",
    "    year = int(input(\"Enter the year: \"))\n",
    "    month = int(input(\"Enter the month (1-12): \"))\n",
    "    if not (1 <= month <= 12):\n",
    "        raise ValueError(\"Month should be between 1 and 12.\")\n",
    "except ValueError as e:\n",
    "    print(f\"Error: {e}\")\n",
    "    exit()\n",
    "\n",
    "\n",
    "calendar_data = generate_calendar(year, month)\n",
    "month_name = calendar.month_name[month]\n",
    "\n",
    "print(f\"\\nCalendar for {month_name} {year}:\\n\")\n",
    "print(\"Mo Tu We Th Fr Sa Su\")\n",
    "for week in calendar_data:\n",
    "    week_str = \"\"\n",
    "    for day in week:\n",
    "        if day == 0:\n",
    "            week_str += \"   \"\n",
    "        else:\n",
    "            week_str += f\"{day:2} \"\n",
    "    print(week_str)\n"
   ]
  },
  {
   "cell_type": "code",
   "execution_count": 53,
   "id": "b3ba95c4-4183-45d4-9ae7-f8118651fec4",
   "metadata": {},
   "outputs": [
    {
     "name": "stdout",
     "output_type": "stream",
     "text": [
      "Your cards: [4, 8], current score: 12\n",
      "Computer's first card: 10\n"
     ]
    },
    {
     "name": "stdin",
     "output_type": "stream",
     "text": [
      "Type 'y' to get another card, 'n' to pass:  y\n"
     ]
    },
    {
     "name": "stdout",
     "output_type": "stream",
     "text": [
      "Your cards: [4, 8, 2], current score: 14\n",
      "Computer's first card: 10\n"
     ]
    },
    {
     "name": "stdin",
     "output_type": "stream",
     "text": [
      "Type 'y' to get another card, 'n' to pass:  n\n"
     ]
    },
    {
     "name": "stdout",
     "output_type": "stream",
     "text": [
      "Your final hand: [4, 8, 2], final score: 14\n",
      "Computer's final hand: [10, 5, 10], final score: 25\n",
      "Computer went over. You win!\n"
     ]
    }
   ],
   "source": [
    "#39. Build a program that simulates a basic text-based blackjack game against the computer.\n",
    "\n",
    "#ans \n",
    "\n",
    "import random\n",
    "\n",
    "def deal_card():\n",
    "    \"\"\"Return a random card from the deck.\"\"\"\n",
    "    cards = [11, 2, 3, 4, 5, 6, 7, 8, 9, 10, 10, 10, 10]\n",
    "    return random.choice(cards)\n",
    "\n",
    "def calculate_score(cards):\n",
    "    \"\"\"Calculate the total score of a list of cards.\"\"\"\n",
    "    if sum(cards) == 21 and len(cards) == 2:\n",
    "        return 0  # Blackjack\n",
    "    if 11 in cards and sum(cards) > 21:\n",
    "        cards.remove(11)\n",
    "        cards.append(1)\n",
    "    return sum(cards)\n",
    "\n",
    "def compare(user_score, computer_score):\n",
    "    \"\"\"Compare the scores of the user and computer.\"\"\"\n",
    "    if user_score == computer_score:\n",
    "        return \"It's a draw!\"\n",
    "    elif computer_score == 0:\n",
    "        return \"Computer has Blackjack. You lose.\"\n",
    "    elif user_score == 0:\n",
    "        return \"You have Blackjack. You win!\"\n",
    "    elif user_score > 21:\n",
    "        return \"You went over. You lose.\"\n",
    "    elif computer_score > 21:\n",
    "        return \"Computer went over. You win!\"\n",
    "    elif user_score > computer_score:\n",
    "        return \"You win!\"\n",
    "    else:\n",
    "        return \"You lose.\"\n",
    "\n",
    "def play_game():\n",
    "    user_cards = [deal_card(), deal_card()]\n",
    "    computer_cards = [deal_card(), deal_card()]\n",
    "    is_game_over = False\n",
    "\n",
    "    while not is_game_over:\n",
    "        user_score = calculate_score(user_cards)\n",
    "        computer_score = calculate_score(computer_cards)\n",
    "\n",
    "        print(f\"Your cards: {user_cards}, current score: {user_score}\")\n",
    "        print(f\"Computer's first card: {computer_cards[0]}\")\n",
    "\n",
    "        if user_score == 0 or computer_score == 0 or user_score > 21:\n",
    "            is_game_over = True\n",
    "        else:\n",
    "            user_should_continue = input(\"Type 'y' to get another card, 'n' to pass: \").lower()\n",
    "            if user_should_continue == 'y':\n",
    "                user_cards.append(deal_card())\n",
    "            else:\n",
    "                is_game_over = True\n",
    "\n",
    "    while computer_score != 0 and computer_score < 17:\n",
    "        computer_cards.append(deal_card())\n",
    "        computer_score = calculate_score(computer_cards)\n",
    "\n",
    "    print(f\"Your final hand: {user_cards}, final score: {user_score}\")\n",
    "    print(f\"Computer's final hand: {computer_cards}, final score: {computer_score}\")\n",
    "    print(compare(user_score, computer_score))\n",
    "\n",
    "\n",
    "play_game()\n",
    "\n"
   ]
  },
  {
   "cell_type": "code",
   "execution_count": null,
   "id": "45400980-f689-4b47-b4e0-0109fc98512f",
   "metadata": {},
   "outputs": [],
   "source": [
    "40. Write a program that generates the prime factors of a given number using trial division."
   ]
  }
 ],
 "metadata": {
  "kernelspec": {
   "display_name": "Python 3 (ipykernel)",
   "language": "python",
   "name": "python3"
  },
  "language_info": {
   "codemirror_mode": {
    "name": "ipython",
    "version": 3
   },
   "file_extension": ".py",
   "mimetype": "text/x-python",
   "name": "python",
   "nbconvert_exporter": "python",
   "pygments_lexer": "ipython3",
   "version": "3.12.0"
  }
 },
 "nbformat": 4,
 "nbformat_minor": 5
}
